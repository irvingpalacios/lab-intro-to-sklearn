{
 "cells": [
  {
   "cell_type": "markdown",
   "metadata": {
    "id": "c7YfotNp0Qvm"
   },
   "source": [
    "# Before your start:\n",
    "- Read the README.md file\n",
    "- Comment as much as you can and use the resources in the README.md file\n",
    "- Happy learning!"
   ]
  },
  {
   "cell_type": "code",
   "execution_count": 2,
   "metadata": {
    "executionInfo": {
     "elapsed": 540,
     "status": "ok",
     "timestamp": 1627509028707,
     "user": {
      "displayName": "irving palacios",
      "photoUrl": "https://lh3.googleusercontent.com/a-/AOh14Gjw6M4LpzTUVro1G-5_aqYZYQhXb8NkvR-4cdiB=s64",
      "userId": "06814234566595318222"
     },
     "user_tz": 300
    },
    "id": "c_iKwHaj0Qvp"
   },
   "outputs": [],
   "source": [
    "# Import your libraries:\n",
    "\n",
    "import pandas as pd\n",
    "import numpy as np \n",
    "\n",
    "import scipy\n",
    "\n",
    "from sklearn import datasets"
   ]
  },
  {
   "cell_type": "markdown",
   "metadata": {
    "id": "vVPtJXMM0Qvs"
   },
   "source": [
    "# Challenge 1 - Explore the Scikit-Learn Datasets\n",
    "\n",
    "Before starting to work on our own datasets, let's first explore the datasets that are included in this Python library. These datasets have been cleaned and formatted for use in ML algorithms."
   ]
  },
  {
   "cell_type": "markdown",
   "metadata": {
    "id": "HK3eydKQ0Qvs"
   },
   "source": [
    "First, we will load the diabetes dataset. Do this in the cell below by importing the datasets and then loading the dataset  to the `diabetes` variable using the `load_diabetes()` function."
   ]
  },
  {
   "cell_type": "code",
   "execution_count": 3,
   "metadata": {
    "executionInfo": {
     "elapsed": 1208,
     "status": "ok",
     "timestamp": 1627509030872,
     "user": {
      "displayName": "irving palacios",
      "photoUrl": "https://lh3.googleusercontent.com/a-/AOh14Gjw6M4LpzTUVro1G-5_aqYZYQhXb8NkvR-4cdiB=s64",
      "userId": "06814234566595318222"
     },
     "user_tz": 300
    },
    "id": "gOFDKBQt0Qvt"
   },
   "outputs": [],
   "source": [
    "# Your code here:\n",
    "\n",
    "diabetes = datasets.load_diabetes()"
   ]
  },
  {
   "cell_type": "markdown",
   "metadata": {
    "id": "-02SMwNT0Qvt"
   },
   "source": [
    "Let's explore this variable by looking at the different attributes. Do this by looking at the `keys()` of this variable."
   ]
  },
  {
   "cell_type": "code",
   "execution_count": 4,
   "metadata": {
    "colab": {
     "base_uri": "https://localhost:8080/"
    },
    "executionInfo": {
     "elapsed": 99,
     "status": "ok",
     "timestamp": 1627509030873,
     "user": {
      "displayName": "irving palacios",
      "photoUrl": "https://lh3.googleusercontent.com/a-/AOh14Gjw6M4LpzTUVro1G-5_aqYZYQhXb8NkvR-4cdiB=s64",
      "userId": "06814234566595318222"
     },
     "user_tz": 300
    },
    "id": "eEsUYj9n0Qvt",
    "outputId": "495369e8-f6c8-45b8-d03e-600f9f433ffb"
   },
   "outputs": [
    {
     "data": {
      "text/plain": [
       "dict_keys(['data', 'target', 'frame', 'DESCR', 'feature_names', 'data_filename', 'target_filename'])"
      ]
     },
     "execution_count": 4,
     "metadata": {},
     "output_type": "execute_result"
    }
   ],
   "source": [
    "# Your code here:\n",
    "\n",
    "diabetes.keys()"
   ]
  },
  {
   "cell_type": "markdown",
   "metadata": {
    "id": "77pvrIiv0Qvt"
   },
   "source": [
    "The next step is to read the description of the dataset. Print the description in the cell below using the `DESCR` attribute of the `diabetes` variable"
   ]
  },
  {
   "cell_type": "code",
   "execution_count": 5,
   "metadata": {
    "colab": {
     "base_uri": "https://localhost:8080/"
    },
    "executionInfo": {
     "elapsed": 91,
     "status": "ok",
     "timestamp": 1627509030873,
     "user": {
      "displayName": "irving palacios",
      "photoUrl": "https://lh3.googleusercontent.com/a-/AOh14Gjw6M4LpzTUVro1G-5_aqYZYQhXb8NkvR-4cdiB=s64",
      "userId": "06814234566595318222"
     },
     "user_tz": 300
    },
    "id": "xoF1PswB0Qvu",
    "outputId": "a83825cc-b9b9-4bde-c310-eea82c9eccb8"
   },
   "outputs": [
    {
     "name": "stdout",
     "output_type": "stream",
     "text": [
      ".. _diabetes_dataset:\n",
      "\n",
      "Diabetes dataset\n",
      "----------------\n",
      "\n",
      "Ten baseline variables, age, sex, body mass index, average blood\n",
      "pressure, and six blood serum measurements were obtained for each of n =\n",
      "442 diabetes patients, as well as the response of interest, a\n",
      "quantitative measure of disease progression one year after baseline.\n",
      "\n",
      "**Data Set Characteristics:**\n",
      "\n",
      "  :Number of Instances: 442\n",
      "\n",
      "  :Number of Attributes: First 10 columns are numeric predictive values\n",
      "\n",
      "  :Target: Column 11 is a quantitative measure of disease progression one year after baseline\n",
      "\n",
      "  :Attribute Information:\n",
      "      - age     age in years\n",
      "      - sex\n",
      "      - bmi     body mass index\n",
      "      - bp      average blood pressure\n",
      "      - s1      tc, T-Cells (a type of white blood cells)\n",
      "      - s2      ldl, low-density lipoproteins\n",
      "      - s3      hdl, high-density lipoproteins\n",
      "      - s4      tch, thyroid stimulating hormone\n",
      "      - s5      ltg, lamotrigine\n",
      "      - s6      glu, blood sugar level\n",
      "\n",
      "Note: Each of these 10 feature variables have been mean centered and scaled by the standard deviation times `n_samples` (i.e. the sum of squares of each column totals 1).\n",
      "\n",
      "Source URL:\n",
      "https://www4.stat.ncsu.edu/~boos/var.select/diabetes.html\n",
      "\n",
      "For more information see:\n",
      "Bradley Efron, Trevor Hastie, Iain Johnstone and Robert Tibshirani (2004) \"Least Angle Regression,\" Annals of Statistics (with discussion), 407-499.\n",
      "(https://web.stanford.edu/~hastie/Papers/LARS/LeastAngle_2002.pdf)\n"
     ]
    }
   ],
   "source": [
    "print(diabetes.DESCR)"
   ]
  },
  {
   "cell_type": "markdown",
   "metadata": {
    "id": "3MoZHb_E0Qvu"
   },
   "source": [
    "What are the variables in this dataset according to the description? List them in the markdown cell below"
   ]
  },
  {
   "cell_type": "markdown",
   "metadata": {
    "id": "EUTn1vjq3PlG"
   },
   "source": [
    "#### Enter your answer here:\n",
    "     \n",
    "     - Age\n",
    "      - Sex\n",
    "      - Body mass index\n",
    "      - Average blood pressure\n",
    "      - S1\n",
    "      - S2\n",
    "      - S3\n",
    "      - S4\n",
    "      - S5\n",
    "      - S6"
   ]
  },
  {
   "cell_type": "markdown",
   "metadata": {
    "id": "nKsVRpYT0Qvu"
   },
   "source": [
    "Now explore the data. Scikit-learn typically takes in 2D numpy arrays as input (though pandas dataframes are also accepted). In the cell below find the shape of the numpy array contained in the data portion of the diabetes variable."
   ]
  },
  {
   "cell_type": "code",
   "execution_count": 6,
   "metadata": {
    "colab": {
     "base_uri": "https://localhost:8080/"
    },
    "executionInfo": {
     "elapsed": 81,
     "status": "ok",
     "timestamp": 1627509030874,
     "user": {
      "displayName": "irving palacios",
      "photoUrl": "https://lh3.googleusercontent.com/a-/AOh14Gjw6M4LpzTUVro1G-5_aqYZYQhXb8NkvR-4cdiB=s64",
      "userId": "06814234566595318222"
     },
     "user_tz": 300
    },
    "id": "X5a_VZRz0Qvv",
    "outputId": "47207b11-b2d7-437f-a3a2-297d0f961093"
   },
   "outputs": [
    {
     "data": {
      "text/plain": [
       "(442, 10)"
      ]
     },
     "execution_count": 6,
     "metadata": {},
     "output_type": "execute_result"
    }
   ],
   "source": [
    "# Your code here:\n",
    "\n",
    "pd.DataFrame(diabetes.data, columns=diabetes.feature_names).shape"
   ]
  },
  {
   "cell_type": "markdown",
   "metadata": {
    "id": "lcyOHexw0Qvv"
   },
   "source": [
    "# Challenge 2 - Perform Supervised Learning on the Dataset"
   ]
  },
  {
   "cell_type": "markdown",
   "metadata": {
    "id": "xauY4sLW0Qvv"
   },
   "source": [
    "#### The data has already been split to predictor and response variables. The response variable is in the `target` portion of the variable. \n",
    "\n",
    "Given this information, let's apply what we have previously learned about linear regression and apply the algorithm to the diabetes dataset. In the cell below, import the linear regression class from sklearn. "
   ]
  },
  {
   "cell_type": "code",
   "execution_count": 7,
   "metadata": {
    "executionInfo": {
     "elapsed": 72,
     "status": "ok",
     "timestamp": 1627509030874,
     "user": {
      "displayName": "irving palacios",
      "photoUrl": "https://lh3.googleusercontent.com/a-/AOh14Gjw6M4LpzTUVro1G-5_aqYZYQhXb8NkvR-4cdiB=s64",
      "userId": "06814234566595318222"
     },
     "user_tz": 300
    },
    "id": "DynbpOel0Qvv"
   },
   "outputs": [],
   "source": [
    "# Your code here:\n",
    "\n",
    "from sklearn.linear_model import LinearRegression"
   ]
  },
  {
   "cell_type": "markdown",
   "metadata": {
    "id": "TqXWz-jr0Qvv"
   },
   "source": [
    "Initialize the model in the variable `diabetes_model`"
   ]
  },
  {
   "cell_type": "code",
   "execution_count": 8,
   "metadata": {
    "executionInfo": {
     "elapsed": 72,
     "status": "ok",
     "timestamp": 1627509030875,
     "user": {
      "displayName": "irving palacios",
      "photoUrl": "https://lh3.googleusercontent.com/a-/AOh14Gjw6M4LpzTUVro1G-5_aqYZYQhXb8NkvR-4cdiB=s64",
      "userId": "06814234566595318222"
     },
     "user_tz": 300
    },
    "id": "FaK_B9T90Qvw"
   },
   "outputs": [],
   "source": [
    "# Your code here:\n",
    "\n",
    "diabetes_model = LinearRegression()"
   ]
  },
  {
   "cell_type": "markdown",
   "metadata": {
    "id": "dLCfNVEo0Qvw"
   },
   "source": [
    "In the cell below, fit the model and print the intercept and coefficients of the model. "
   ]
  },
  {
   "cell_type": "code",
   "execution_count": 9,
   "metadata": {
    "colab": {
     "base_uri": "https://localhost:8080/"
    },
    "executionInfo": {
     "elapsed": 71,
     "status": "ok",
     "timestamp": 1627509030875,
     "user": {
      "displayName": "irving palacios",
      "photoUrl": "https://lh3.googleusercontent.com/a-/AOh14Gjw6M4LpzTUVro1G-5_aqYZYQhXb8NkvR-4cdiB=s64",
      "userId": "06814234566595318222"
     },
     "user_tz": 300
    },
    "id": "Buhy56NA0Qvw",
    "outputId": "cfae4354-bb68-4d98-fd24-706ac4cabe4a"
   },
   "outputs": [
    {
     "data": {
      "text/plain": [
       "LinearRegression()"
      ]
     },
     "execution_count": 9,
     "metadata": {},
     "output_type": "execute_result"
    }
   ],
   "source": [
    "# Your code here:\n",
    "\n",
    "diabetes_model.fit(diabetes.data,diabetes.target)"
   ]
  },
  {
   "cell_type": "code",
   "execution_count": 10,
   "metadata": {
    "colab": {
     "base_uri": "https://localhost:8080/"
    },
    "executionInfo": {
     "elapsed": 69,
     "status": "ok",
     "timestamp": 1627509030876,
     "user": {
      "displayName": "irving palacios",
      "photoUrl": "https://lh3.googleusercontent.com/a-/AOh14Gjw6M4LpzTUVro1G-5_aqYZYQhXb8NkvR-4cdiB=s64",
      "userId": "06814234566595318222"
     },
     "user_tz": 300
    },
    "id": "eO9XQZDc8B5o",
    "outputId": "5c7b37ac-7286-42ea-cd29-1f3ff5805953"
   },
   "outputs": [
    {
     "name": "stdout",
     "output_type": "stream",
     "text": [
      "152.1334841628965\n"
     ]
    }
   ],
   "source": [
    "print(diabetes_model.intercept_)"
   ]
  },
  {
   "cell_type": "code",
   "execution_count": 11,
   "metadata": {
    "colab": {
     "base_uri": "https://localhost:8080/"
    },
    "executionInfo": {
     "elapsed": 67,
     "status": "ok",
     "timestamp": 1627509030876,
     "user": {
      "displayName": "irving palacios",
      "photoUrl": "https://lh3.googleusercontent.com/a-/AOh14Gjw6M4LpzTUVro1G-5_aqYZYQhXb8NkvR-4cdiB=s64",
      "userId": "06814234566595318222"
     },
     "user_tz": 300
    },
    "id": "Qye6Moo88eaS",
    "outputId": "f5a1322d-af4a-47c2-8a7c-45441344a9f3"
   },
   "outputs": [
    {
     "name": "stdout",
     "output_type": "stream",
     "text": [
      "[ -10.01219782 -239.81908937  519.83978679  324.39042769 -792.18416163\n",
      "  476.74583782  101.04457032  177.06417623  751.27932109   67.62538639]\n"
     ]
    }
   ],
   "source": [
    "print(diabetes_model.coef_)"
   ]
  },
  {
   "cell_type": "markdown",
   "metadata": {
    "id": "TMpEXiSN0Qvw"
   },
   "source": [
    "# Bonus Challenge 1 - Conduct a Hypothesis Test on the Model\n",
    "\n",
    "Once we have generated a linear model, we can test each coefficient using a t-test to see whether the confidence interval for the variable contains zero. We can also perform an overall F test to check whether at least one coefficient is significantly different from zero. \n",
    "\n",
    "Refer to the resource in this [link](https://onlinecourses.science.psu.edu/stat501/node/297/) for more details and perform the t-tests for the model above. Additionally, interpret the results and list coefficients are significantly different from zero.\n",
    "\n",
    "\n",
    "Hint: use the statsmodels package.\n",
    "\n",
    "Your result should look similar to this:\n",
    "\n",
    "![ols](../ols-results.png)"
   ]
  },
  {
   "cell_type": "code",
   "execution_count": 12,
   "metadata": {
    "executionInfo": {
     "elapsed": 66,
     "status": "ok",
     "timestamp": 1627509030876,
     "user": {
      "displayName": "irving palacios",
      "photoUrl": "https://lh3.googleusercontent.com/a-/AOh14Gjw6M4LpzTUVro1G-5_aqYZYQhXb8NkvR-4cdiB=s64",
      "userId": "06814234566595318222"
     },
     "user_tz": 300
    },
    "id": "pADG5RTr9Z2Q"
   },
   "outputs": [],
   "source": [
    "import statsmodels.api as sm"
   ]
  },
  {
   "cell_type": "code",
   "execution_count": 13,
   "metadata": {
    "colab": {
     "base_uri": "https://localhost:8080/"
    },
    "executionInfo": {
     "elapsed": 66,
     "status": "ok",
     "timestamp": 1627509030877,
     "user": {
      "displayName": "irving palacios",
      "photoUrl": "https://lh3.googleusercontent.com/a-/AOh14Gjw6M4LpzTUVro1G-5_aqYZYQhXb8NkvR-4cdiB=s64",
      "userId": "06814234566595318222"
     },
     "user_tz": 300
    },
    "id": "rgT_hFtBBTro",
    "outputId": "3fc06a03-c101-4883-9676-32b7e0817997"
   },
   "outputs": [
    {
     "name": "stdout",
     "output_type": "stream",
     "text": [
      "                            OLS Regression Results                            \n",
      "==============================================================================\n",
      "Dep. Variable:                      y   R-squared:                       0.518\n",
      "Model:                            OLS   Adj. R-squared:                  0.507\n",
      "Method:                 Least Squares   F-statistic:                     46.27\n",
      "Date:                Sun, 01 Aug 2021   Prob (F-statistic):           3.83e-62\n",
      "Time:                        20:04:37   Log-Likelihood:                -2386.0\n",
      "No. Observations:                 442   AIC:                             4794.\n",
      "Df Residuals:                     431   BIC:                             4839.\n",
      "Df Model:                          10                                         \n",
      "Covariance Type:            nonrobust                                         \n",
      "==============================================================================\n",
      "                 coef    std err          t      P>|t|      [0.025      0.975]\n",
      "------------------------------------------------------------------------------\n",
      "const        152.1335      2.576     59.061      0.000     147.071     157.196\n",
      "x1           -10.0122     59.749     -0.168      0.867    -127.448     107.424\n",
      "x2          -239.8191     61.222     -3.917      0.000    -360.151    -119.488\n",
      "x3           519.8398     66.534      7.813      0.000     389.069     650.610\n",
      "x4           324.3904     65.422      4.958      0.000     195.805     452.976\n",
      "x5          -792.1842    416.684     -1.901      0.058   -1611.169      26.801\n",
      "x6           476.7458    339.035      1.406      0.160    -189.621    1143.113\n",
      "x7           101.0446    212.533      0.475      0.635    -316.685     518.774\n",
      "x8           177.0642    161.476      1.097      0.273    -140.313     494.442\n",
      "x9           751.2793    171.902      4.370      0.000     413.409    1089.150\n",
      "x10           67.6254     65.984      1.025      0.306     -62.065     197.316\n",
      "==============================================================================\n",
      "Omnibus:                        1.506   Durbin-Watson:                   2.029\n",
      "Prob(Omnibus):                  0.471   Jarque-Bera (JB):                1.404\n",
      "Skew:                           0.017   Prob(JB):                        0.496\n",
      "Kurtosis:                       2.726   Cond. No.                         227.\n",
      "==============================================================================\n",
      "\n",
      "Notes:\n",
      "[1] Standard Errors assume that the covariance matrix of the errors is correctly specified.\n"
     ]
    }
   ],
   "source": [
    "X = sm.add_constant(diabetes.data)\n",
    "Y = diabetes.target\n",
    "\n",
    "model = sm.OLS(Y, X).fit()\n",
    "predictions = model.predict(X) \n",
    "\n",
    "print_model = model.summary()\n",
    "print(print_model)"
   ]
  },
  {
   "cell_type": "markdown",
   "metadata": {
    "id": "ATyCWNTT0Qvx"
   },
   "source": [
    "# Challenge 2 - Peform Supervised Learning on a Pandas Dataframe"
   ]
  },
  {
   "cell_type": "markdown",
   "metadata": {
    "id": "l00eSUDy0Qvx"
   },
   "source": [
    "Now that we have looked at data that has been formatted for scikit-learn, let's look at data that we will need to format ourselves.\n",
    "\n",
    "In the next cell, load the `auto-mpg.csv` file included in this folder and assign it to a variable called `auto`."
   ]
  },
  {
   "cell_type": "code",
   "execution_count": 14,
   "metadata": {
    "colab": {
     "base_uri": "https://localhost:8080/"
    },
    "executionInfo": {
     "elapsed": 66,
     "status": "ok",
     "timestamp": 1627509030878,
     "user": {
      "displayName": "irving palacios",
      "photoUrl": "https://lh3.googleusercontent.com/a-/AOh14Gjw6M4LpzTUVro1G-5_aqYZYQhXb8NkvR-4cdiB=s64",
      "userId": "06814234566595318222"
     },
     "user_tz": 300
    },
    "id": "p7zVSsN7B24v",
    "outputId": "699e9c9a-9203-4d22-87ff-efb93d4628a4"
   },
   "outputs": [],
   "source": [
    "#from google.colab import drive\n",
    "#drive.mount('/content/drive')"
   ]
  },
  {
   "cell_type": "code",
   "execution_count": 15,
   "metadata": {
    "executionInfo": {
     "elapsed": 64,
     "status": "ok",
     "timestamp": 1627509030879,
     "user": {
      "displayName": "irving palacios",
      "photoUrl": "https://lh3.googleusercontent.com/a-/AOh14Gjw6M4LpzTUVro1G-5_aqYZYQhXb8NkvR-4cdiB=s64",
      "userId": "06814234566595318222"
     },
     "user_tz": 300
    },
    "id": "UBNZ6n2Z0Qvx"
   },
   "outputs": [],
   "source": [
    "# Your code here:\n",
    "\n",
    "#auto = pd.read_csv('/content/drive/MyDrive/Colab Notebooks/LABS/Módulo 3/lab-intro-to-sklearn-master/auto-mpg.csv')\n",
    "auto = pd.read_csv('../auto-mpg.csv')"
   ]
  },
  {
   "cell_type": "markdown",
   "metadata": {
    "id": "4ffP0rGS0Qvx"
   },
   "source": [
    "Look at the first 5 rows using the `head()` function:"
   ]
  },
  {
   "cell_type": "code",
   "execution_count": 16,
   "metadata": {
    "colab": {
     "base_uri": "https://localhost:8080/",
     "height": 204
    },
    "executionInfo": {
     "elapsed": 64,
     "status": "ok",
     "timestamp": 1627509030879,
     "user": {
      "displayName": "irving palacios",
      "photoUrl": "https://lh3.googleusercontent.com/a-/AOh14Gjw6M4LpzTUVro1G-5_aqYZYQhXb8NkvR-4cdiB=s64",
      "userId": "06814234566595318222"
     },
     "user_tz": 300
    },
    "id": "8ikaHDO_0Qvx",
    "outputId": "b9fa30b6-146e-451a-d1ef-7b1dc6431223"
   },
   "outputs": [
    {
     "data": {
      "text/html": [
       "<div>\n",
       "<style scoped>\n",
       "    .dataframe tbody tr th:only-of-type {\n",
       "        vertical-align: middle;\n",
       "    }\n",
       "\n",
       "    .dataframe tbody tr th {\n",
       "        vertical-align: top;\n",
       "    }\n",
       "\n",
       "    .dataframe thead th {\n",
       "        text-align: right;\n",
       "    }\n",
       "</style>\n",
       "<table border=\"1\" class=\"dataframe\">\n",
       "  <thead>\n",
       "    <tr style=\"text-align: right;\">\n",
       "      <th></th>\n",
       "      <th>mpg</th>\n",
       "      <th>cylinders</th>\n",
       "      <th>displacement</th>\n",
       "      <th>horse_power</th>\n",
       "      <th>weight</th>\n",
       "      <th>acceleration</th>\n",
       "      <th>model_year</th>\n",
       "      <th>car_name</th>\n",
       "    </tr>\n",
       "  </thead>\n",
       "  <tbody>\n",
       "    <tr>\n",
       "      <th>0</th>\n",
       "      <td>18.0</td>\n",
       "      <td>8</td>\n",
       "      <td>307.0</td>\n",
       "      <td>130.0</td>\n",
       "      <td>3504</td>\n",
       "      <td>12.0</td>\n",
       "      <td>70</td>\n",
       "      <td>\\t\"chevrolet chevelle malibu\"</td>\n",
       "    </tr>\n",
       "    <tr>\n",
       "      <th>1</th>\n",
       "      <td>15.0</td>\n",
       "      <td>8</td>\n",
       "      <td>350.0</td>\n",
       "      <td>165.0</td>\n",
       "      <td>3693</td>\n",
       "      <td>11.5</td>\n",
       "      <td>70</td>\n",
       "      <td>\\t\"buick skylark 320\"</td>\n",
       "    </tr>\n",
       "    <tr>\n",
       "      <th>2</th>\n",
       "      <td>18.0</td>\n",
       "      <td>8</td>\n",
       "      <td>318.0</td>\n",
       "      <td>150.0</td>\n",
       "      <td>3436</td>\n",
       "      <td>11.0</td>\n",
       "      <td>70</td>\n",
       "      <td>\\t\"plymouth satellite\"</td>\n",
       "    </tr>\n",
       "    <tr>\n",
       "      <th>3</th>\n",
       "      <td>16.0</td>\n",
       "      <td>8</td>\n",
       "      <td>304.0</td>\n",
       "      <td>150.0</td>\n",
       "      <td>3433</td>\n",
       "      <td>12.0</td>\n",
       "      <td>70</td>\n",
       "      <td>\\t\"amc rebel sst\"</td>\n",
       "    </tr>\n",
       "    <tr>\n",
       "      <th>4</th>\n",
       "      <td>17.0</td>\n",
       "      <td>8</td>\n",
       "      <td>302.0</td>\n",
       "      <td>140.0</td>\n",
       "      <td>3449</td>\n",
       "      <td>10.5</td>\n",
       "      <td>70</td>\n",
       "      <td>\\t\"ford torino\"</td>\n",
       "    </tr>\n",
       "  </tbody>\n",
       "</table>\n",
       "</div>"
      ],
      "text/plain": [
       "    mpg  cylinders  displacement  horse_power  weight  acceleration  \\\n",
       "0  18.0          8         307.0        130.0    3504          12.0   \n",
       "1  15.0          8         350.0        165.0    3693          11.5   \n",
       "2  18.0          8         318.0        150.0    3436          11.0   \n",
       "3  16.0          8         304.0        150.0    3433          12.0   \n",
       "4  17.0          8         302.0        140.0    3449          10.5   \n",
       "\n",
       "   model_year                       car_name  \n",
       "0          70  \\t\"chevrolet chevelle malibu\"  \n",
       "1          70          \\t\"buick skylark 320\"  \n",
       "2          70         \\t\"plymouth satellite\"  \n",
       "3          70              \\t\"amc rebel sst\"  \n",
       "4          70                \\t\"ford torino\"  "
      ]
     },
     "execution_count": 16,
     "metadata": {},
     "output_type": "execute_result"
    }
   ],
   "source": [
    "# Your code here:\n",
    "\n",
    "auto.head(5)"
   ]
  },
  {
   "cell_type": "markdown",
   "metadata": {
    "id": "uCgwtqjZ0Qvy"
   },
   "source": [
    "Evaluate the data to ensure that all numeric columns are correctly detected as such by pandas. If a column is misclassified as object, coerce it to numeric."
   ]
  },
  {
   "cell_type": "code",
   "execution_count": 17,
   "metadata": {
    "colab": {
     "base_uri": "https://localhost:8080/"
    },
    "executionInfo": {
     "elapsed": 64,
     "status": "ok",
     "timestamp": 1627509030880,
     "user": {
      "displayName": "irving palacios",
      "photoUrl": "https://lh3.googleusercontent.com/a-/AOh14Gjw6M4LpzTUVro1G-5_aqYZYQhXb8NkvR-4cdiB=s64",
      "userId": "06814234566595318222"
     },
     "user_tz": 300
    },
    "id": "0KHfVg8M0Qvy",
    "outputId": "8ce76da3-391c-4df1-932c-334feb287bbd"
   },
   "outputs": [
    {
     "data": {
      "text/plain": [
       "mpg             float64\n",
       "cylinders         int64\n",
       "displacement    float64\n",
       "horse_power     float64\n",
       "weight            int64\n",
       "acceleration    float64\n",
       "model_year        int64\n",
       "car_name         object\n",
       "dtype: object"
      ]
     },
     "execution_count": 17,
     "metadata": {},
     "output_type": "execute_result"
    }
   ],
   "source": [
    "# Your code here:\n",
    "\n",
    "auto.dtypes"
   ]
  },
  {
   "cell_type": "markdown",
   "metadata": {
    "id": "3cg9a3gp0Qvy"
   },
   "source": [
    "What is the newest model year and the oldest model year?"
   ]
  },
  {
   "cell_type": "code",
   "execution_count": 18,
   "metadata": {
    "colab": {
     "base_uri": "https://localhost:8080/"
    },
    "executionInfo": {
     "elapsed": 63,
     "status": "ok",
     "timestamp": 1627509030881,
     "user": {
      "displayName": "irving palacios",
      "photoUrl": "https://lh3.googleusercontent.com/a-/AOh14Gjw6M4LpzTUVro1G-5_aqYZYQhXb8NkvR-4cdiB=s64",
      "userId": "06814234566595318222"
     },
     "user_tz": 300
    },
    "id": "geKB6u230Qvy",
    "outputId": "2fe6a4bd-89e2-47f6-f25b-9abd5d412787"
   },
   "outputs": [
    {
     "name": "stdout",
     "output_type": "stream",
     "text": [
      "The oldest is: 70 model \n",
      "\n",
      "The newest is: 82 model \n",
      "\n"
     ]
    }
   ],
   "source": [
    "# Your code here:\n",
    "\n",
    "print('The oldest is:',auto.model_year.min(),'model \\n')\n",
    "print('The newest is:',auto.model_year.max(),'model \\n')"
   ]
  },
  {
   "cell_type": "markdown",
   "metadata": {
    "id": "yGcfpdV_0Qvy"
   },
   "source": [
    "Check the dataset for missing values and remove all rows containing at least one missing value."
   ]
  },
  {
   "cell_type": "code",
   "execution_count": 19,
   "metadata": {
    "colab": {
     "base_uri": "https://localhost:8080/"
    },
    "executionInfo": {
     "elapsed": 61,
     "status": "ok",
     "timestamp": 1627509030881,
     "user": {
      "displayName": "irving palacios",
      "photoUrl": "https://lh3.googleusercontent.com/a-/AOh14Gjw6M4LpzTUVro1G-5_aqYZYQhXb8NkvR-4cdiB=s64",
      "userId": "06814234566595318222"
     },
     "user_tz": 300
    },
    "id": "Z0dZ_LHR0Qvy",
    "outputId": "f2c7bb02-e7dc-49ac-9dbb-976c7375a1cd"
   },
   "outputs": [
    {
     "data": {
      "text/plain": [
       "mpg             0\n",
       "cylinders       0\n",
       "displacement    0\n",
       "horse_power     6\n",
       "weight          0\n",
       "acceleration    0\n",
       "model_year      0\n",
       "car_name        0\n",
       "dtype: int64"
      ]
     },
     "execution_count": 19,
     "metadata": {},
     "output_type": "execute_result"
    }
   ],
   "source": [
    "# Your code here:\n",
    "\n",
    "auto.isnull().sum()"
   ]
  },
  {
   "cell_type": "code",
   "execution_count": 20,
   "metadata": {
    "executionInfo": {
     "elapsed": 60,
     "status": "ok",
     "timestamp": 1627509030882,
     "user": {
      "displayName": "irving palacios",
      "photoUrl": "https://lh3.googleusercontent.com/a-/AOh14Gjw6M4LpzTUVro1G-5_aqYZYQhXb8NkvR-4cdiB=s64",
      "userId": "06814234566595318222"
     },
     "user_tz": 300
    },
    "id": "FKSf0K6tDxlG"
   },
   "outputs": [],
   "source": [
    "auto.drop((list(auto[auto.isnull().any(axis=1)].index)),inplace=True)"
   ]
  },
  {
   "cell_type": "code",
   "execution_count": 21,
   "metadata": {
    "colab": {
     "base_uri": "https://localhost:8080/",
     "height": 49
    },
    "executionInfo": {
     "elapsed": 60,
     "status": "ok",
     "timestamp": 1627509030882,
     "user": {
      "displayName": "irving palacios",
      "photoUrl": "https://lh3.googleusercontent.com/a-/AOh14Gjw6M4LpzTUVro1G-5_aqYZYQhXb8NkvR-4cdiB=s64",
      "userId": "06814234566595318222"
     },
     "user_tz": 300
    },
    "id": "aJ9GL7XhE8Pw",
    "outputId": "2369ccc3-5a3a-44c9-ccb4-03a1bd393638"
   },
   "outputs": [
    {
     "data": {
      "text/html": [
       "<div>\n",
       "<style scoped>\n",
       "    .dataframe tbody tr th:only-of-type {\n",
       "        vertical-align: middle;\n",
       "    }\n",
       "\n",
       "    .dataframe tbody tr th {\n",
       "        vertical-align: top;\n",
       "    }\n",
       "\n",
       "    .dataframe thead th {\n",
       "        text-align: right;\n",
       "    }\n",
       "</style>\n",
       "<table border=\"1\" class=\"dataframe\">\n",
       "  <thead>\n",
       "    <tr style=\"text-align: right;\">\n",
       "      <th></th>\n",
       "      <th>mpg</th>\n",
       "      <th>cylinders</th>\n",
       "      <th>displacement</th>\n",
       "      <th>horse_power</th>\n",
       "      <th>weight</th>\n",
       "      <th>acceleration</th>\n",
       "      <th>model_year</th>\n",
       "      <th>car_name</th>\n",
       "    </tr>\n",
       "  </thead>\n",
       "  <tbody>\n",
       "  </tbody>\n",
       "</table>\n",
       "</div>"
      ],
      "text/plain": [
       "Empty DataFrame\n",
       "Columns: [mpg, cylinders, displacement, horse_power, weight, acceleration, model_year, car_name]\n",
       "Index: []"
      ]
     },
     "execution_count": 21,
     "metadata": {},
     "output_type": "execute_result"
    }
   ],
   "source": [
    "auto[auto.isnull().any(axis=1)]"
   ]
  },
  {
   "cell_type": "markdown",
   "metadata": {
    "id": "HgG_wour0Qvz"
   },
   "source": [
    "Find the frequency table for the `cylinders` column using the `value_counts()` function. How many possible values of cylinders are there?"
   ]
  },
  {
   "cell_type": "code",
   "execution_count": 22,
   "metadata": {
    "colab": {
     "base_uri": "https://localhost:8080/"
    },
    "executionInfo": {
     "elapsed": 60,
     "status": "ok",
     "timestamp": 1627509030883,
     "user": {
      "displayName": "irving palacios",
      "photoUrl": "https://lh3.googleusercontent.com/a-/AOh14Gjw6M4LpzTUVro1G-5_aqYZYQhXb8NkvR-4cdiB=s64",
      "userId": "06814234566595318222"
     },
     "user_tz": 300
    },
    "id": "qtFjHQ6t0Qvz",
    "outputId": "38ab141f-a65d-4425-b7e1-132b065ecbfc"
   },
   "outputs": [
    {
     "data": {
      "text/plain": [
       "5"
      ]
     },
     "execution_count": 22,
     "metadata": {},
     "output_type": "execute_result"
    }
   ],
   "source": [
    "# Your code here:\n",
    "\n",
    "len(list(auto.cylinders.value_counts()))"
   ]
  },
  {
   "cell_type": "markdown",
   "metadata": {
    "id": "Dr1J9tXS0Qvz"
   },
   "source": [
    "We would like to generate a linear regression model that will predict mpg. To do this, first drop the `car_name` column since it does not contain any quantitative data. Next separate the dataframe to predictor and response variables. Separate those into test and training data with 80% of the data in the training set and the remainder in the test set. \n",
    "\n",
    "Assign the predictor and response training data to `X_train` and `y_train` respectively. Similarly, assign the predictor and response test data to `X_test` and `y_test`."
   ]
  },
  {
   "cell_type": "code",
   "execution_count": 23,
   "metadata": {
    "executionInfo": {
     "elapsed": 57,
     "status": "ok",
     "timestamp": 1627509030883,
     "user": {
      "displayName": "irving palacios",
      "photoUrl": "https://lh3.googleusercontent.com/a-/AOh14Gjw6M4LpzTUVro1G-5_aqYZYQhXb8NkvR-4cdiB=s64",
      "userId": "06814234566595318222"
     },
     "user_tz": 300
    },
    "id": "tpbEA1Oq0Qvz"
   },
   "outputs": [],
   "source": [
    "# Import the necessary function\n",
    "\n",
    "from sklearn import linear_model\n",
    "from sklearn.model_selection import train_test_split"
   ]
  },
  {
   "cell_type": "code",
   "execution_count": 24,
   "metadata": {
    "executionInfo": {
     "elapsed": 58,
     "status": "ok",
     "timestamp": 1627509030884,
     "user": {
      "displayName": "irving palacios",
      "photoUrl": "https://lh3.googleusercontent.com/a-/AOh14Gjw6M4LpzTUVro1G-5_aqYZYQhXb8NkvR-4cdiB=s64",
      "userId": "06814234566595318222"
     },
     "user_tz": 300
    },
    "id": "CuJ1XdNv0Qvz"
   },
   "outputs": [],
   "source": [
    "# Your code here:\n",
    "\n",
    "auto = auto.drop(['car_name'], axis=1)"
   ]
  },
  {
   "cell_type": "code",
   "execution_count": 25,
   "metadata": {
    "colab": {
     "base_uri": "https://localhost:8080/"
    },
    "executionInfo": {
     "elapsed": 58,
     "status": "ok",
     "timestamp": 1627509030884,
     "user": {
      "displayName": "irving palacios",
      "photoUrl": "https://lh3.googleusercontent.com/a-/AOh14Gjw6M4LpzTUVro1G-5_aqYZYQhXb8NkvR-4cdiB=s64",
      "userId": "06814234566595318222"
     },
     "user_tz": 300
    },
    "id": "lFPb5SQC7bAS",
    "outputId": "8710052d-8a21-4581-cd5b-4e7b8be4c5f8"
   },
   "outputs": [
    {
     "data": {
      "text/plain": [
       "Index(['mpg', 'cylinders', 'displacement', 'horse_power', 'weight',\n",
       "       'acceleration', 'model_year'],\n",
       "      dtype='object')"
      ]
     },
     "execution_count": 25,
     "metadata": {},
     "output_type": "execute_result"
    }
   ],
   "source": [
    "auto.columns"
   ]
  },
  {
   "cell_type": "code",
   "execution_count": 26,
   "metadata": {
    "executionInfo": {
     "elapsed": 57,
     "status": "ok",
     "timestamp": 1627509030885,
     "user": {
      "displayName": "irving palacios",
      "photoUrl": "https://lh3.googleusercontent.com/a-/AOh14Gjw6M4LpzTUVro1G-5_aqYZYQhXb8NkvR-4cdiB=s64",
      "userId": "06814234566595318222"
     },
     "user_tz": 300
    },
    "id": "Q_xndT-i6cXN"
   },
   "outputs": [],
   "source": [
    "cols = ['cylinders', 'displacement', 'horse_power', 'weight',\n",
    "       'acceleration', 'model_year']\n",
    "\n",
    "X = auto[cols]\n",
    "y = auto['mpg']"
   ]
  },
  {
   "cell_type": "markdown",
   "metadata": {
    "id": "NaX8EBfU0Qv0"
   },
   "source": [
    "Now we will the dataset that we processed and peform linear regression on this data to predict the mpg for each vehicle. Initialize the model in the cell below."
   ]
  },
  {
   "cell_type": "code",
   "execution_count": 27,
   "metadata": {
    "executionInfo": {
     "elapsed": 57,
     "status": "ok",
     "timestamp": 1627509030885,
     "user": {
      "displayName": "irving palacios",
      "photoUrl": "https://lh3.googleusercontent.com/a-/AOh14Gjw6M4LpzTUVro1G-5_aqYZYQhXb8NkvR-4cdiB=s64",
      "userId": "06814234566595318222"
     },
     "user_tz": 300
    },
    "id": "wQTbHYHu0Qv0"
   },
   "outputs": [],
   "source": [
    "# Your code here:\n",
    "\n",
    "X_train, X_test, y_train, y_test = train_test_split(X,y,test_size=0.2)"
   ]
  },
  {
   "cell_type": "markdown",
   "metadata": {
    "id": "UJUU_Ehq0Qv0"
   },
   "source": [
    "Next, fit the model in the cell below."
   ]
  },
  {
   "cell_type": "code",
   "execution_count": 28,
   "metadata": {
    "colab": {
     "base_uri": "https://localhost:8080/"
    },
    "executionInfo": {
     "elapsed": 57,
     "status": "ok",
     "timestamp": 1627509030886,
     "user": {
      "displayName": "irving palacios",
      "photoUrl": "https://lh3.googleusercontent.com/a-/AOh14Gjw6M4LpzTUVro1G-5_aqYZYQhXb8NkvR-4cdiB=s64",
      "userId": "06814234566595318222"
     },
     "user_tz": 300
    },
    "id": "RskQXo_V0Qv0",
    "outputId": "b83b7062-f9ad-4fb9-ecd2-7ca82ddca92a"
   },
   "outputs": [
    {
     "data": {
      "text/plain": [
       "LinearRegression()"
      ]
     },
     "execution_count": 28,
     "metadata": {},
     "output_type": "execute_result"
    }
   ],
   "source": [
    "# Your code here:\n",
    "\n",
    "car_model=LinearRegression()\n",
    "car_model.fit(X_train,y_train)"
   ]
  },
  {
   "cell_type": "markdown",
   "metadata": {
    "id": "7oz9_6Vt0Qv1"
   },
   "source": [
    "# Challenge 3 - Evaluate the Model\n",
    "\n",
    "the r squared score of a model tells us how much variation is explained by the model. In a typical dataset, most observations differ from the mean. When we create a model, we are trying to generate an equation that will tell us by how much each observation will differ from the mean. Obviously, the vast majority of models are not perfect. They can only predict some of the variation from the mean but not all of it. We attribute the rest of the difference between the actual value and the mean to random error. We would like random error to explain the as little as possible of the variation. This is why the r squared score is an important metric.\n",
    "\n",
    "In the next cell, compute the r squared score of the model. Do this by first computing the predicted values and assign them to `y_pred`."
   ]
  },
  {
   "cell_type": "code",
   "execution_count": 29,
   "metadata": {
    "executionInfo": {
     "elapsed": 55,
     "status": "ok",
     "timestamp": 1627509030886,
     "user": {
      "displayName": "irving palacios",
      "photoUrl": "https://lh3.googleusercontent.com/a-/AOh14Gjw6M4LpzTUVro1G-5_aqYZYQhXb8NkvR-4cdiB=s64",
      "userId": "06814234566595318222"
     },
     "user_tz": 300
    },
    "id": "ZT1bw_7R0Qv1"
   },
   "outputs": [],
   "source": [
    "# Import the necessary function:\n",
    "\n",
    "from sklearn.metrics import r2_score"
   ]
  },
  {
   "cell_type": "code",
   "execution_count": 30,
   "metadata": {
    "colab": {
     "base_uri": "https://localhost:8080/"
    },
    "executionInfo": {
     "elapsed": 54,
     "status": "ok",
     "timestamp": 1627509030887,
     "user": {
      "displayName": "irving palacios",
      "photoUrl": "https://lh3.googleusercontent.com/a-/AOh14Gjw6M4LpzTUVro1G-5_aqYZYQhXb8NkvR-4cdiB=s64",
      "userId": "06814234566595318222"
     },
     "user_tz": 300
    },
    "id": "LGmnFhP10Qv1",
    "outputId": "98e79f79-30c2-453d-d13e-01efb3089265"
   },
   "outputs": [
    {
     "data": {
      "text/plain": [
       "0.7818641354721052"
      ]
     },
     "execution_count": 30,
     "metadata": {},
     "output_type": "execute_result"
    }
   ],
   "source": [
    "# Your code here:\n",
    "\n",
    "y_pred = car_model.predict(X_test)\n",
    "r2_score(y_test,y_pred)"
   ]
  },
  {
   "cell_type": "markdown",
   "metadata": {
    "id": "Vy6HAeZ10Qv1"
   },
   "source": [
    "#### Our next step is to evaluate the model using the test data. We would like to ensure that our model is not overfitting the data. This means that our model will not be able to generalize well outside of the training data.\n",
    "\n",
    "In the cell below, use the model to generate the predicted values for the training data and assign them to `y_test_pred`. Compute the r squared score for the test data by comparing the oberserved `y_test` data and the predicted `y_test_pred`."
   ]
  },
  {
   "cell_type": "code",
   "execution_count": 31,
   "metadata": {
    "colab": {
     "base_uri": "https://localhost:8080/"
    },
    "executionInfo": {
     "elapsed": 49,
     "status": "ok",
     "timestamp": 1627509030888,
     "user": {
      "displayName": "irving palacios",
      "photoUrl": "https://lh3.googleusercontent.com/a-/AOh14Gjw6M4LpzTUVro1G-5_aqYZYQhXb8NkvR-4cdiB=s64",
      "userId": "06814234566595318222"
     },
     "user_tz": 300
    },
    "id": "lbh3ioT50Qv1",
    "outputId": "fe987bf9-9e49-497d-8f5d-13bfd9d759a1"
   },
   "outputs": [
    {
     "data": {
      "text/plain": [
       "0.8128680160539226"
      ]
     },
     "execution_count": 31,
     "metadata": {},
     "output_type": "execute_result"
    }
   ],
   "source": [
    "# Your code here:\n",
    "\n",
    "y_test_pred = car_model.predict(X_train)\n",
    "r2_score(y_train,y_test_pred)"
   ]
  },
  {
   "cell_type": "markdown",
   "metadata": {
    "id": "mWw0YeUQ0Qv2"
   },
   "source": [
    "# Challenge 4 - Improve the Model Fit\n",
    "\n",
    "While the most common way to improve the fit of a model is by using regularization, there are other simpler ways to improve model fit. The first is to create a simpler model. The second is to increase the train sample size.\n",
    "\n",
    "Let us start with the easier option and increase our train sample size to 90% of the data. Create a new test train split and name the new predictors and response variables `X_train09`, `X_test09`, `y_train09`, `y_test09`."
   ]
  },
  {
   "cell_type": "code",
   "execution_count": 32,
   "metadata": {
    "executionInfo": {
     "elapsed": 47,
     "status": "ok",
     "timestamp": 1627509030889,
     "user": {
      "displayName": "irving palacios",
      "photoUrl": "https://lh3.googleusercontent.com/a-/AOh14Gjw6M4LpzTUVro1G-5_aqYZYQhXb8NkvR-4cdiB=s64",
      "userId": "06814234566595318222"
     },
     "user_tz": 300
    },
    "id": "yiqZoHzV0Qv2"
   },
   "outputs": [],
   "source": [
    "# Your code here:\n",
    "\n",
    "X_train09, X_test09, y_train09, y_test09 = train_test_split(X,y,test_size=0.1)"
   ]
  },
  {
   "cell_type": "markdown",
   "metadata": {
    "id": "PLQIINSh0Qv2"
   },
   "source": [
    "Initialize a new model. Name this model `auto_model09`. Fit the model to the new sample data."
   ]
  },
  {
   "cell_type": "code",
   "execution_count": 33,
   "metadata": {
    "colab": {
     "base_uri": "https://localhost:8080/"
    },
    "executionInfo": {
     "elapsed": 48,
     "status": "ok",
     "timestamp": 1627509030890,
     "user": {
      "displayName": "irving palacios",
      "photoUrl": "https://lh3.googleusercontent.com/a-/AOh14Gjw6M4LpzTUVro1G-5_aqYZYQhXb8NkvR-4cdiB=s64",
      "userId": "06814234566595318222"
     },
     "user_tz": 300
    },
    "id": "bc1sK29J0Qv2",
    "outputId": "1993ae2b-7dee-4d5d-85c9-806ec2c6acc4"
   },
   "outputs": [
    {
     "data": {
      "text/plain": [
       "LinearRegression()"
      ]
     },
     "execution_count": 33,
     "metadata": {},
     "output_type": "execute_result"
    }
   ],
   "source": [
    "# Your code here:\n",
    "\n",
    "auto_model09=LinearRegression()\n",
    "auto_model09.fit(X_train09,y_train09)"
   ]
  },
  {
   "cell_type": "markdown",
   "metadata": {
    "id": "xI5-TaOB0Qv2"
   },
   "source": [
    "Compute the predicted values and r squared score for our new model and new sample data."
   ]
  },
  {
   "cell_type": "code",
   "execution_count": 34,
   "metadata": {
    "colab": {
     "base_uri": "https://localhost:8080/"
    },
    "executionInfo": {
     "elapsed": 47,
     "status": "ok",
     "timestamp": 1627509030891,
     "user": {
      "displayName": "irving palacios",
      "photoUrl": "https://lh3.googleusercontent.com/a-/AOh14Gjw6M4LpzTUVro1G-5_aqYZYQhXb8NkvR-4cdiB=s64",
      "userId": "06814234566595318222"
     },
     "user_tz": 300
    },
    "id": "nW4EQuit0Qv3",
    "outputId": "250f1a8f-299b-4981-936e-6a6228beeded"
   },
   "outputs": [
    {
     "data": {
      "text/plain": [
       "0.8032947022077029"
      ]
     },
     "execution_count": 34,
     "metadata": {},
     "output_type": "execute_result"
    }
   ],
   "source": [
    "# Your code here:\n",
    "\n",
    "y_train_pred09 = auto_model09.predict(X_train09)\n",
    "r2_score(y_train09,y_train_pred09)"
   ]
  },
  {
   "cell_type": "markdown",
   "metadata": {
    "id": "rY17rUWI0Qv3"
   },
   "source": [
    "Compute the r squared score for the smaller test set. Is there an improvement in the test r squared?"
   ]
  },
  {
   "cell_type": "code",
   "execution_count": 35,
   "metadata": {
    "colab": {
     "base_uri": "https://localhost:8080/"
    },
    "executionInfo": {
     "elapsed": 44,
     "status": "ok",
     "timestamp": 1627509030891,
     "user": {
      "displayName": "irving palacios",
      "photoUrl": "https://lh3.googleusercontent.com/a-/AOh14Gjw6M4LpzTUVro1G-5_aqYZYQhXb8NkvR-4cdiB=s64",
      "userId": "06814234566595318222"
     },
     "user_tz": 300
    },
    "id": "NNZgBPyW0Qv3",
    "outputId": "09dbb341-92e1-448d-fb71-15f6fe2d2fae"
   },
   "outputs": [
    {
     "data": {
      "text/plain": [
       "0.87087002286901"
      ]
     },
     "execution_count": 35,
     "metadata": {},
     "output_type": "execute_result"
    }
   ],
   "source": [
    "# Your code here:\n",
    "\n",
    "y_pred09 = auto_model09.predict(X_test09)\n",
    "r2_score(y_test09,y_pred09)"
   ]
  },
  {
   "cell_type": "code",
   "execution_count": 36,
   "metadata": {
    "executionInfo": {
     "elapsed": 43,
     "status": "ok",
     "timestamp": 1627509030892,
     "user": {
      "displayName": "irving palacios",
      "photoUrl": "https://lh3.googleusercontent.com/a-/AOh14Gjw6M4LpzTUVro1G-5_aqYZYQhXb8NkvR-4cdiB=s64",
      "userId": "06814234566595318222"
     },
     "user_tz": 300
    },
    "id": "BNvY_ti1dCex"
   },
   "outputs": [],
   "source": [
    "#There is not improvement, actually it is worst than the test of 20%"
   ]
  },
  {
   "cell_type": "markdown",
   "metadata": {
    "id": "S_o62nRt0Qv3"
   },
   "source": [
    "# Bonus Challenge 2 - Backward Elimination \n",
    "\n",
    "The main way to produce a simpler linear regression model is to reduce the number of variables used in the model. In scikit-learn, we can do this by using recursive feature elimination. You can read more about RFE [here](https://scikit-learn.org/stable/modules/generated/sklearn.feature_selection.RFE.html).\n",
    "\n",
    "In the next cell, we will import RFE"
   ]
  },
  {
   "cell_type": "code",
   "execution_count": 37,
   "metadata": {
    "executionInfo": {
     "elapsed": 44,
     "status": "ok",
     "timestamp": 1627509030893,
     "user": {
      "displayName": "irving palacios",
      "photoUrl": "https://lh3.googleusercontent.com/a-/AOh14Gjw6M4LpzTUVro1G-5_aqYZYQhXb8NkvR-4cdiB=s64",
      "userId": "06814234566595318222"
     },
     "user_tz": 300
    },
    "id": "XgHlt8KC0Qv3"
   },
   "outputs": [],
   "source": [
    "from sklearn.feature_selection import RFE"
   ]
  },
  {
   "cell_type": "markdown",
   "metadata": {
    "id": "ELyoL5yf0Qv3"
   },
   "source": [
    "Follow the documentation and initialize an RFE model using the `auto_model` linear regression model. Set `n_features_to_select=3`"
   ]
  },
  {
   "cell_type": "code",
   "execution_count": 38,
   "metadata": {
    "executionInfo": {
     "elapsed": 44,
     "status": "ok",
     "timestamp": 1627509030894,
     "user": {
      "displayName": "irving palacios",
      "photoUrl": "https://lh3.googleusercontent.com/a-/AOh14Gjw6M4LpzTUVro1G-5_aqYZYQhXb8NkvR-4cdiB=s64",
      "userId": "06814234566595318222"
     },
     "user_tz": 300
    },
    "id": "GdVrMM-o0Qv4"
   },
   "outputs": [],
   "source": [
    "# Your code here:\n",
    "\n",
    "selector = RFE(car_model,n_features_to_select=3,step=1)"
   ]
  },
  {
   "cell_type": "markdown",
   "metadata": {
    "id": "kDXCqSr30Qv5"
   },
   "source": [
    "Fit the model and print the ranking"
   ]
  },
  {
   "cell_type": "code",
   "execution_count": 39,
   "metadata": {
    "colab": {
     "base_uri": "https://localhost:8080/"
    },
    "executionInfo": {
     "elapsed": 45,
     "status": "ok",
     "timestamp": 1627509030895,
     "user": {
      "displayName": "irving palacios",
      "photoUrl": "https://lh3.googleusercontent.com/a-/AOh14Gjw6M4LpzTUVro1G-5_aqYZYQhXb8NkvR-4cdiB=s64",
      "userId": "06814234566595318222"
     },
     "user_tz": 300
    },
    "id": "9B-Y1dnK0Qv5",
    "outputId": "cb43ddb2-5439-433a-99e3-b0aa16770bfc"
   },
   "outputs": [
    {
     "data": {
      "text/plain": [
       "array([1, 2, 4, 3, 1, 1])"
      ]
     },
     "execution_count": 39,
     "metadata": {},
     "output_type": "execute_result"
    }
   ],
   "source": [
    "# Your code here:\n",
    "\n",
    "selector = selector.fit(X_train, y_train)\n",
    "selector.ranking_"
   ]
  },
  {
   "cell_type": "markdown",
   "metadata": {
    "id": "VYBeksLF0Qv5"
   },
   "source": [
    "Feature importance is ranked from most important (1) to least important (4). Generate a model with the three most important features. The features correspond to variable names. For example, feature 1 is `cylinders` and feature 2 is `displacement`.\n",
    "\n",
    "Perform a test-train split on this reduced column data and call the split data `X_train_reduced`, `X_test_reduced`, `y_test_reduced`, `y_train_reduced`. Use an 80% split."
   ]
  },
  {
   "cell_type": "code",
   "execution_count": 40,
   "metadata": {
    "colab": {
     "base_uri": "https://localhost:8080/"
    },
    "executionInfo": {
     "elapsed": 43,
     "status": "ok",
     "timestamp": 1627509030895,
     "user": {
      "displayName": "irving palacios",
      "photoUrl": "https://lh3.googleusercontent.com/a-/AOh14Gjw6M4LpzTUVro1G-5_aqYZYQhXb8NkvR-4cdiB=s64",
      "userId": "06814234566595318222"
     },
     "user_tz": 300
    },
    "id": "4_5dAQgeDvBz",
    "outputId": "d2c36280-b5af-490f-cb7f-18db33b5755b"
   },
   "outputs": [
    {
     "data": {
      "text/plain": [
       "Index(['mpg', 'cylinders', 'displacement', 'horse_power', 'weight',\n",
       "       'acceleration', 'model_year'],\n",
       "      dtype='object')"
      ]
     },
     "execution_count": 40,
     "metadata": {},
     "output_type": "execute_result"
    }
   ],
   "source": [
    "auto.columns"
   ]
  },
  {
   "cell_type": "code",
   "execution_count": 41,
   "metadata": {
    "executionInfo": {
     "elapsed": 43,
     "status": "ok",
     "timestamp": 1627509030897,
     "user": {
      "displayName": "irving palacios",
      "photoUrl": "https://lh3.googleusercontent.com/a-/AOh14Gjw6M4LpzTUVro1G-5_aqYZYQhXb8NkvR-4cdiB=s64",
      "userId": "06814234566595318222"
     },
     "user_tz": 300
    },
    "id": "o3QddI5r0Qv5"
   },
   "outputs": [],
   "source": [
    "# Your code here\n",
    "X = auto.drop(['mpg', 'displacement', 'horse_power', 'weight'],axis=1)\n",
    "y = auto['mpg']\n",
    "\n",
    "X_trainRFE, X_testRFE, y_trainRFE, y_testRFE = train_test_split(X,y,test_size=0.2)"
   ]
  },
  {
   "cell_type": "markdown",
   "metadata": {
    "id": "Cgchz1Nz0Qv5"
   },
   "source": [
    "Generate a new model called `auto_model_reduced` and fit this model. Then proceed to compute the r squared score for the model. Did this cause an improvement in the r squared score?"
   ]
  },
  {
   "cell_type": "code",
   "execution_count": 42,
   "metadata": {
    "colab": {
     "base_uri": "https://localhost:8080/"
    },
    "executionInfo": {
     "elapsed": 128,
     "status": "ok",
     "timestamp": 1627509135418,
     "user": {
      "displayName": "irving palacios",
      "photoUrl": "https://lh3.googleusercontent.com/a-/AOh14Gjw6M4LpzTUVro1G-5_aqYZYQhXb8NkvR-4cdiB=s64",
      "userId": "06814234566595318222"
     },
     "user_tz": 300
    },
    "id": "X48LsagJ0Qv6",
    "outputId": "344e2c21-674a-45bc-f3b6-cffce3260e0d"
   },
   "outputs": [
    {
     "data": {
      "text/plain": [
       "LinearRegression()"
      ]
     },
     "execution_count": 42,
     "metadata": {},
     "output_type": "execute_result"
    }
   ],
   "source": [
    "# Your code here: \n",
    "\n",
    "auto_model_reduced = LinearRegression()\n",
    "\n",
    "auto_model_reduced.fit(X_trainRFE,y_trainRFE)"
   ]
  },
  {
   "cell_type": "code",
   "execution_count": 43,
   "metadata": {
    "colab": {
     "base_uri": "https://localhost:8080/"
    },
    "executionInfo": {
     "elapsed": 148,
     "status": "ok",
     "timestamp": 1627509144421,
     "user": {
      "displayName": "irving palacios",
      "photoUrl": "https://lh3.googleusercontent.com/a-/AOh14Gjw6M4LpzTUVro1G-5_aqYZYQhXb8NkvR-4cdiB=s64",
      "userId": "06814234566595318222"
     },
     "user_tz": 300
    },
    "id": "rI8oRzx20Qv6",
    "outputId": "8484d18b-c5e3-49ff-d2e4-cf949d3674be"
   },
   "outputs": [
    {
     "data": {
      "text/plain": [
       "0.7134900504069908"
      ]
     },
     "execution_count": 43,
     "metadata": {},
     "output_type": "execute_result"
    }
   ],
   "source": [
    "y_train_pred_RFE = auto_model_reduced.predict(X_trainRFE)\n",
    "\n",
    "r2_score(y_trainRFE,y_train_pred_RFE)"
   ]
  },
  {
   "cell_type": "markdown",
   "metadata": {
    "id": "SmPfOMVTGsn1"
   },
   "source": [
    "##Disminuyó a 72%, no hay mejora\n",
    "\n",
    "\n",
    "\n"
   ]
  },
  {
   "cell_type": "code",
   "execution_count": 44,
   "metadata": {
    "colab": {
     "base_uri": "https://localhost:8080/"
    },
    "executionInfo": {
     "elapsed": 129,
     "status": "ok",
     "timestamp": 1627509219597,
     "user": {
      "displayName": "irving palacios",
      "photoUrl": "https://lh3.googleusercontent.com/a-/AOh14Gjw6M4LpzTUVro1G-5_aqYZYQhXb8NkvR-4cdiB=s64",
      "userId": "06814234566595318222"
     },
     "user_tz": 300
    },
    "id": "vdmbnI3BG5fo",
    "outputId": "189a12c0-2b5d-4d40-a1f7-8ac4eee32d7c"
   },
   "outputs": [
    {
     "data": {
      "text/plain": [
       "0.7056576560930781"
      ]
     },
     "execution_count": 44,
     "metadata": {},
     "output_type": "execute_result"
    }
   ],
   "source": [
    "y_test_pred_RFE = auto_model_reduced.predict(X_testRFE)\n",
    "\n",
    "r2_score(y_testRFE,y_test_pred_RFE)"
   ]
  },
  {
   "cell_type": "markdown",
   "metadata": {
    "id": "cSAnriN2HB0-"
   },
   "source": [
    "##Disminuyó a 64%, no hay mejora"
   ]
  },
  {
   "cell_type": "code",
   "execution_count": null,
   "metadata": {
    "id": "upTgBs5UGrnW"
   },
   "outputs": [],
   "source": []
  }
 ],
 "metadata": {
  "colab": {
   "collapsed_sections": [],
   "name": "main.ipynb",
   "provenance": []
  },
  "kernelspec": {
   "display_name": "Python 3",
   "language": "python",
   "name": "python3"
  },
  "language_info": {
   "codemirror_mode": {
    "name": "ipython",
    "version": 3
   },
   "file_extension": ".py",
   "mimetype": "text/x-python",
   "name": "python",
   "nbconvert_exporter": "python",
   "pygments_lexer": "ipython3",
   "version": "3.8.5"
  }
 },
 "nbformat": 4,
 "nbformat_minor": 4
}
